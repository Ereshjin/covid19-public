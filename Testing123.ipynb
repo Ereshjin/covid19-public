{
  "nbformat": 4,
  "nbformat_minor": 0,
  "metadata": {
    "colab": {
      "name": "Workshop.ipynb",
      "provenance": [],
      "collapsed_sections": [],
      "authorship_tag": "ABX9TyOrbNCv00S3p9cpSTXLUIcT",
      "include_colab_link": true
    },
    "kernelspec": {
      "name": "python3",
      "display_name": "Python 3"
    },
    "language_info": {
      "name": "python"
    }
  },
  "cells": [
    {
      "cell_type": "markdown",
      "metadata": {
        "id": "view-in-github",
        "colab_type": "text"
      },
      "source": [
        "<a href=\"https://colab.research.google.com/github/Ereshjin/covid19-public/blob/main/Testing123.ipynb\" target=\"_parent\"><img src=\"https://colab.research.google.com/assets/colab-badge.svg\" alt=\"Open In Colab\"/></a>"
      ]
    },
    {
      "cell_type": "code",
      "metadata": {
        "colab": {
          "base_uri": "https://localhost:8080/"
        },
        "id": "UzpCOFTpGoEX",
        "outputId": "68e788b8-5f89-40a8-941c-1e79981ee475"
      },
      "source": [
        "print(\"Github\")"
      ],
      "execution_count": 1,
      "outputs": [
        {
          "output_type": "stream",
          "name": "stdout",
          "text": [
            "Github\n"
          ]
        }
      ]
    },
    {
      "cell_type": "code",
      "metadata": {
        "colab": {
          "base_uri": "https://localhost:8080/"
        },
        "id": "TwOmIj5NrFF6",
        "outputId": "93b671fc-1751-489f-ce2f-85f9905ff93c"
      },
      "source": [
        "data = \"healthcare\"\n",
        "print(data)"
      ],
      "execution_count": null,
      "outputs": [
        {
          "output_type": "stream",
          "name": "stdout",
          "text": [
            "healthcare\n"
          ]
        }
      ]
    },
    {
      "cell_type": "code",
      "metadata": {
        "colab": {
          "base_uri": "https://localhost:8080/"
        },
        "id": "q1HOq-aPrvnf",
        "outputId": "e976b149-6034-461d-af8e-d1050c4e9f9a"
      },
      "source": [
        "print(data[0:6])"
      ],
      "execution_count": null,
      "outputs": [
        {
          "output_type": "stream",
          "name": "stdout",
          "text": [
            "health\n"
          ]
        }
      ]
    },
    {
      "cell_type": "code",
      "metadata": {
        "colab": {
          "base_uri": "https://localhost:8080/"
        },
        "id": "p1axtYBHta1u",
        "outputId": "c4508908-9a56-465d-8b34-8e5f470b87b0"
      },
      "source": [
        "my_name=\"Jin\"\n",
        "your_name=\"Jan\"\n",
        "print(my_name==your_name)"
      ],
      "execution_count": null,
      "outputs": [
        {
          "output_type": "stream",
          "name": "stdout",
          "text": [
            "False\n"
          ]
        }
      ]
    },
    {
      "cell_type": "code",
      "metadata": {
        "colab": {
          "base_uri": "https://localhost:8080/"
        },
        "id": "_wHzL4QsuEoW",
        "outputId": "75153639-c8ff-47fa-fab6-cc6c8448f565"
      },
      "source": [
        "a,b,c = 1,2,3\n",
        "print(a,b,c)"
      ],
      "execution_count": null,
      "outputs": [
        {
          "output_type": "stream",
          "name": "stdout",
          "text": [
            "1 2 3\n"
          ]
        }
      ]
    },
    {
      "cell_type": "code",
      "metadata": {
        "colab": {
          "base_uri": "https://localhost:8080/"
        },
        "id": "FUcKAITuxJYG",
        "outputId": "21996b96-c203-4387-8202-84890a910ea4"
      },
      "source": [
        "print(\"Edit me!\")\n",
        "  \n",
        "a= 10\n",
        "print(a)"
      ],
      "execution_count": null,
      "outputs": [
        {
          "output_type": "stream",
          "name": "stdout",
          "text": [
            "Edit me!\n",
            "10\n"
          ]
        }
      ]
    },
    {
      "cell_type": "code",
      "metadata": {
        "colab": {
          "base_uri": "https://localhost:8080/"
        },
        "id": "l2g7rta9x0wN",
        "outputId": "54991daa-6fb8-4bbc-b4c5-ea05aedf085c"
      },
      "source": [
        "a = 1\n",
        "b = 2\n",
        "c = 3\n",
        "print(a)\n",
        "print(b)\n",
        "print(c)"
      ],
      "execution_count": null,
      "outputs": [
        {
          "output_type": "stream",
          "name": "stdout",
          "text": [
            "1\n",
            "2\n",
            "3\n"
          ]
        }
      ]
    },
    {
      "cell_type": "code",
      "metadata": {
        "colab": {
          "base_uri": "https://localhost:8080/"
        },
        "id": "cSqirdTNyX-9",
        "outputId": "9685fe82-3d7c-4bf8-8633-be1ff16613fd"
      },
      "source": [
        "mynumber = '33'\n",
        "myword = 'ABC'\n",
        "print(mynumber)"
      ],
      "execution_count": null,
      "outputs": [
        {
          "output_type": "stream",
          "name": "stdout",
          "text": [
            "33\n"
          ]
        }
      ]
    },
    {
      "cell_type": "code",
      "metadata": {
        "colab": {
          "base_uri": "https://localhost:8080/"
        },
        "id": "tPSPw0EHyk5-",
        "outputId": "888c92aa-9b9d-4aef-900e-31323251e657"
      },
      "source": [
        "print(myword)"
      ],
      "execution_count": null,
      "outputs": [
        {
          "output_type": "stream",
          "name": "stdout",
          "text": [
            "ABC\n"
          ]
        }
      ]
    },
    {
      "cell_type": "code",
      "metadata": {
        "colab": {
          "base_uri": "https://localhost:8080/"
        },
        "id": "F-G0PlSY4Nkd",
        "outputId": "2e775fa3-174b-4ce6-e1ce-90007f8aec71"
      },
      "source": [
        "print(1-1-3+5-(-10)*3/4)"
      ],
      "execution_count": null,
      "outputs": [
        {
          "output_type": "stream",
          "name": "stdout",
          "text": [
            "9.5\n"
          ]
        }
      ]
    },
    {
      "cell_type": "code",
      "metadata": {
        "colab": {
          "base_uri": "https://localhost:8080/"
        },
        "id": "_Xb4U5GC4-F1",
        "outputId": "1cbb4f57-794a-4ead-eb08-a981cdd6aeeb"
      },
      "source": [
        "(1-1-3+5-(-10))*(3/4)"
      ],
      "execution_count": null,
      "outputs": [
        {
          "output_type": "execute_result",
          "data": {
            "text/plain": [
              "9.0"
            ]
          },
          "metadata": {},
          "execution_count": 25
        }
      ]
    },
    {
      "cell_type": "code",
      "metadata": {
        "colab": {
          "base_uri": "https://localhost:8080/"
        },
        "id": "0DDjuwYJ5xzd",
        "outputId": "b85f88d0-37db-4587-ee99-a721fea2cb94"
      },
      "source": [
        "a =\"5\"\n",
        "b =\"8\"\n",
        "print(a==b)\n",
        "print(a!=b)\n",
        "print(a>b)\n",
        "print(a<b)\n",
        "print(a>=b)\n",
        "print(a<=b)"
      ],
      "execution_count": null,
      "outputs": [
        {
          "output_type": "stream",
          "name": "stdout",
          "text": [
            "False\n",
            "True\n",
            "False\n",
            "True\n",
            "False\n",
            "True\n"
          ]
        }
      ]
    },
    {
      "cell_type": "code",
      "metadata": {
        "colab": {
          "base_uri": "https://localhost:8080/"
        },
        "id": "GWlUmBpX7ghd",
        "outputId": "d4916da7-9360-4573-c73d-c2bea36ff025"
      },
      "source": [
        "num = 77\n",
        "if num >= 0:\n",
        "  print(num, \"is a positive number\")\n"
      ],
      "execution_count": null,
      "outputs": [
        {
          "output_type": "stream",
          "name": "stdout",
          "text": [
            "77 is a positive number\n"
          ]
        }
      ]
    },
    {
      "cell_type": "code",
      "metadata": {
        "colab": {
          "base_uri": "https://localhost:8080/"
        },
        "id": "xCoEC_GQ9AFF",
        "outputId": "c9a2e6b0-3fc2-45a6-b40a-8839e1aaed98"
      },
      "source": [
        "num = - 77\n",
        "if num >= 0:\n",
        "  print(num, \"is a positive number\")\n",
        "else:\n",
        "  print(num, 'negative number')"
      ],
      "execution_count": null,
      "outputs": [
        {
          "output_type": "stream",
          "name": "stdout",
          "text": [
            "-77 negative number\n"
          ]
        }
      ]
    },
    {
      "cell_type": "code",
      "metadata": {
        "colab": {
          "base_uri": "https://localhost:8080/"
        },
        "id": "NowDRxKF9kDt",
        "outputId": "26d8ff27-8f70-48ac-a1ef-5264748900b2"
      },
      "source": [
        "num = 0\n",
        "if num > 0:\n",
        "  print(num, \"is a positive number\")\n",
        "elif num == 0:\n",
        "  print('zero')\n",
        "else:\n",
        "  print(num, 'is a negative number')\n"
      ],
      "execution_count": null,
      "outputs": [
        {
          "output_type": "stream",
          "name": "stdout",
          "text": [
            "zero\n"
          ]
        }
      ]
    },
    {
      "cell_type": "code",
      "metadata": {
        "colab": {
          "base_uri": "https://localhost:8080/"
        },
        "id": "suefvT-Y_BU1",
        "outputId": "a3b93509-b806-4d34-fd04-81789517a947"
      },
      "source": [
        "num = float(input('enter a number:'))\n",
        "if num >=0:\n",
        "   if num ==0:\n",
        "    print('zero')\n",
        "   else:\n",
        "      print('positive number')\n",
        "else: \n",
        "      print('negative number')"
      ],
      "execution_count": null,
      "outputs": [
        {
          "output_type": "stream",
          "name": "stdout",
          "text": [
            "enter a number:3.5\n",
            "positive number\n"
          ]
        }
      ]
    },
    {
      "cell_type": "code",
      "metadata": {
        "colab": {
          "base_uri": "https://localhost:8080/",
          "height": 35
        },
        "id": "Gb0_8MJBAskU",
        "outputId": "d3965910-73a0-42f1-b10a-ee6ced0dea0c"
      },
      "source": [
        "def day(i):\n",
        "  switcher={\n",
        "      0:'Monday',\n",
        "      1:'Tuesday',\n",
        "      2:'Wednesday',\n",
        "      3:'Thursday',\n",
        "      4:'Friday',\n",
        "      5:'Saturday',\n",
        "      6:'Sunday'\n",
        "  }\n",
        "  return switcher.get(i, \"invalid day of the week\")\n",
        "day(3)"
      ],
      "execution_count": null,
      "outputs": [
        {
          "output_type": "execute_result",
          "data": {
            "application/vnd.google.colaboratory.intrinsic+json": {
              "type": "string"
            },
            "text/plain": [
              "'Thursday'"
            ]
          },
          "metadata": {},
          "execution_count": 21
        }
      ]
    },
    {
      "cell_type": "code",
      "metadata": {
        "colab": {
          "base_uri": "https://localhost:8080/"
        },
        "id": "86tnwxMXBjP8",
        "outputId": "46fdd95a-d7ce-4ec2-f613-ac4d31e45f29"
      },
      "source": [
        "x=3\n",
        "y=4\n",
        "z=x+y\n",
        "z=z+1\n",
        "x=y\n",
        "y=5\n",
        "print(x)\n",
        "print(y)\n",
        "print(z)"
      ],
      "execution_count": null,
      "outputs": [
        {
          "output_type": "stream",
          "name": "stdout",
          "text": [
            "4\n",
            "5\n",
            "8\n"
          ]
        }
      ]
    },
    {
      "cell_type": "code",
      "metadata": {
        "colab": {
          "base_uri": "https://localhost:8080/"
        },
        "id": "1njr7982Df1z",
        "outputId": "c7997e3c-1b5b-4902-e4cc-79b74f17077f"
      },
      "source": [
        "x=41\n",
        "y=2.54\n",
        "print(x*y)"
      ],
      "execution_count": null,
      "outputs": [
        {
          "output_type": "stream",
          "name": "stdout",
          "text": [
            "104.14\n"
          ]
        }
      ]
    },
    {
      "cell_type": "code",
      "metadata": {
        "colab": {
          "base_uri": "https://localhost:8080/"
        },
        "id": "4LwPvwz5DxkT",
        "outputId": "e79395be-955c-4346-b667-def73720f75b"
      },
      "source": [
        "num = 19\n",
        "if num <20:\n",
        "   if num <=10:\n",
        "    print('small')\n",
        "   else:\n",
        "    print('medium')\n",
        "else:\n",
        "  print(\"large\")"
      ],
      "execution_count": null,
      "outputs": [
        {
          "output_type": "stream",
          "name": "stdout",
          "text": [
            "medium\n"
          ]
        }
      ]
    },
    {
      "cell_type": "code",
      "metadata": {
        "colab": {
          "base_uri": "https://localhost:8080/"
        },
        "id": "FmT28GxoF4CL",
        "outputId": "d489f58e-c048-4d5e-8bd4-86469f29b619"
      },
      "source": [
        "cm = 2.54\n",
        "num = float(input('enter a number:'))\n",
        "cal = cm * num\n",
        "print(cal)"
      ],
      "execution_count": null,
      "outputs": [
        {
          "output_type": "stream",
          "name": "stdout",
          "text": [
            "enter a number:41\n",
            "104.14\n"
          ]
        }
      ]
    },
    {
      "cell_type": "code",
      "metadata": {
        "colab": {
          "base_uri": "https://localhost:8080/"
        },
        "id": "w4jSh9vWHYTK",
        "outputId": "7fe1e9cb-6875-4e3b-893b-b33814d53181"
      },
      "source": [
        "Weight = float(input('enter a number:'))\n",
        "Height = float(input('enter another number:'))\n",
        "BMI= Weight/Height**2\n",
        "print(BMI,\"is the BMI\")\n",
        "\n",
        "if BMI < 18.5:\n",
        "  if BMI < 16:\n",
        "    print('severely underweight')\n",
        "  else : print('Underweight')\n",
        "\n",
        "elif BMI < 25:\n",
        "  print('Normal')\n",
        "\n",
        "else: \n",
        "  if BMI > 40:\n",
        "   print('morbidly obese')\n",
        "  elif BMI > 35:\n",
        "    print('severely obese')\n",
        "  elif BMI > 30:\n",
        "    print('moderately obese')  \n",
        "  else: \n",
        "      print('overweight')"
      ],
      "execution_count": null,
      "outputs": [
        {
          "output_type": "stream",
          "name": "stdout",
          "text": [
            "enter a number:65\n",
            "enter another number:1.78\n",
            "20.515086478979924 is the BMI\n",
            "Normal\n"
          ]
        }
      ]
    },
    {
      "cell_type": "code",
      "metadata": {
        "id": "5Yq2Qtj4sBnk"
      },
      "source": [
        ""
      ],
      "execution_count": null,
      "outputs": []
    }
  ]
}